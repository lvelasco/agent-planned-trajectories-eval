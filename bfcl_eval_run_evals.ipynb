{
 "nbformat": 4,
 "nbformat_minor": 2,
 "metadata": {
  "kernelspec": {"display_name": "Python 3", "language": "python", "name": "python3"},
  "language_info": {"name": "python", "version": "3.11.7", "file_extension": ".py", "mimetype": "text/x-python", "nbconvert_exporter": "python", "pygments_lexer": "ipython3", "codemirror_mode": {"name": "ipython", "version": 3}}
 },
 "cells": [
  {"cell_type": "markdown", "metadata": {}, "source": ["# BFCL: Evaluate Generated Plans"]},
  {"cell_type": "code", "metadata": {}, "source": [
    "import os",
    "import json",
    "import requests",
    "import logging",
    "import pandas as pd",
    "from dotenv import load_dotenv"
  ]},
  {"cell_type": "code", "metadata": {}, "source": [
    "logging.basicConfig(level=logging.INFO, format='%(asctime)s - %(levelname)s - %(message)s')",
    "load_dotenv()",
    "OPENAI_API_KEY = os.getenv('OPENAI_API_KEY')",
    "if not OPENAI_API_KEY: raise EnvironmentError('OPENAI_API_KEY not set')"
  ]},
  {"cell_type": "code", "metadata": {}, "source": [
    "# Load generated plans",
    "if not os.path.exists('bfcl_eval_results.parquet'):",
    "    raise FileNotFoundError('bfcl_eval_results.parquet not found; run gen notebook first')",
    "bfcl_df = pd.read_parquet('bfcl_eval_results.parquet', engine='fastparquet')"
  ]},
  {"cell_type": "code", "metadata": {}, "source": [
    "# Select evaluation engine: 'manual' or 'openai'",
    "EVAL_ENGINE = 'openai'",
    "if EVAL_ENGINE not in ['manual','openai']:",
    "    raise ValueError(\"EVAL_ENGINE must be 'manual' or 'openai'\")"
  ]},
  {"cell_type": "code", "metadata": {}, "source": [
    "# OpenAI Eval API wrappers",
    "def create_eval():",
    "    url = 'https://api.openai.com/v1/evals'",
    "    headers = {",
    "        'Authorization': f'Bearer {OPENAI_API_KEY}',",
    "        'Content-Type': 'application/json'",
    "    }",
    "    data = {",
    "        'name': 'BFCL Planned Trajectory',",
    "        'data_source_config': {",
    "            'type': 'custom',",
    "            'item_schema': {",
    "                'type': 'object',",
    "                'properties': {",
    "                    'instructions': {'type': 'string'},",
    "                    'planned_trajectory': {",
    "                        'type': 'array',",
    "                        'items': {",
    "                            'type': 'object',",
    "                            'properties': {",
    "                                'name': {'type': 'string'},",
    "                                'arguments': {'type': 'object'}",
    "                            },",
    "                            'required': ['name','arguments']",
    "                        }",
    "                    },",
    "                    'output_planned_trajectory': {",
    "                        'type': 'array',",
    "                        'items': {",
    "                            'type': 'object',",
    "                            'properties': {",
    "                                'name': {'type': 'string'},",
    "                                'arguments': {'type': 'object'}",
    "                            },",
    "                            'required': ['name','arguments']",
    "                        }",
    "                    }",
    "                },",
    "                'required': ['instructions','planned_trajectory','output_planned_trajectory']",
    "            }",
    "        },",
    "        'testing_criteria': [",
    "            {",
    "                'type': 'text_similarity',",
    "                'name': 'Match output to human label',",
    "                'evaluation_metric': 'bleu',",
    "                'input': '{{ item.planned_trajectory }}',",
    "                'pass_threshold': 0.5,",
    "                'reference': '{{ item.output_planned_trajectory }}'",
    "            }",
    "        ]",
    "    }",
    "    response = requests.post(url, headers=headers, json=data)",
    "    return response.json()"
  ]},
  {"cell_type": "code", "metadata": {}, "source": [
    "def upload_eval_file(file_path):",
    "    url = 'https://api.openai.com/v1/files'",
    "    headers = {'Authorization': f'Bearer {OPENAI_API_KEY}'}",
    "    files = { 'file': open(file_path,'rb'), 'purpose': (None,'evals') }",
    "    response = requests.post(url, headers=headers, files=files)",
    "    return response.json()"
  ]},
  {"cell_type": "code", "metadata": {}, "source": [
    "def create_eval_run(eval_id, file_id):",
    "    url = f'https://api.openai.com/v1/evals/{eval_id}/runs'",
    "    headers = {'Authorization': f'Bearer {OPENAI_API_KEY}', 'Content-Type': 'application/json'}",
    "    data = {'data_source': {'type':'jsonl','source':{'type':'file_id','id':file_id}}}",
    "    response = requests.post(url, headers=headers, json=data)",
    "    return response.json()"
  ]},
  {"cell_type": "code", "metadata": {}, "source": [
    "def get_eval_run(eval_id, run_id):",
    "    url = f'https://api.openai.com/v1/evals/{eval_id}/runs/{run_id}'",
    "    headers = {'Authorization': f'Bearer {OPENAI_API_KEY}', 'Content-Type':'application/json'}",
    "    response = requests.get(url, headers=headers)",
    "    return response.json()"
  ]},
  {"cell_type": "code", "metadata": {}, "source": [
    "# Format eval data to JSONL",
    "def format_eval_data(df, output_file):",
    "    with open(output_file,'w') as f:",
    "        for _, row in df.iterrows():",
    "            obj = { 'item': { 'instructions': row['instruction'], 'planned_trajectory': row['ground_truth_calls'], 'output_planned_trajectory': row['bfcl_planned_calls'] } }",
    "            f.write(json.dumps(obj) + '\n')",
    "format_eval_data(bfcl_df, 'bfcl_eval_data.jsonl')"
  ]},
  {"cell_type": "markdown", "metadata": {}, "source": [
    "# To run OpenAI eval:\n",
    "# eval_meta = create_eval()\n",
    "# file_resp = upload_eval_file('bfcl_eval_data.jsonl')\n",
    "# eval_run = create_eval_run(eval_meta['id'], file_resp['id'])\n",
    "# get_eval_run(eval_meta['id'], eval_run['id'])"
  ]},
  {"cell_type": "markdown", "metadata": {}, "source": ["# Quick manual inspection"]},
  {"cell_type": "code", "metadata": {}, "source": ["bfcl_df[['instruction','ground_truth_calls','bfcl_planned_calls']].head(10)"]}
 ]
}